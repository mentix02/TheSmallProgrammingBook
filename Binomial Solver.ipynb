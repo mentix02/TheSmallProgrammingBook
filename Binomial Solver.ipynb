{
 "cells": [
  {
   "cell_type": "markdown",
   "metadata": {},
   "source": [
    "# An Algebraic Binomial Solver\n",
    "> In elementary algebra, the binomial theorem (or binomial expansion) describes the algebraic expansion of powers of a binomial.\n",
    "\n",
    "That is how Wikipedia describes the [Binomial Theorem](https://en.wikipedia.org/wiki/Binomial_theorem). A [binomial](https://en.wikipedia.org/wiki/Binomial_(polynomial)), simply put, is the sum of two \"terms\" (or [monomials](https://en.wikipedia.org/wiki/Monomial) if you wish to be Mathematically precise). A much simpler, and concise, definition of the \"binomial $(x + y)$ to a power $n$\" can be provided using mathematics -\n",
    "\n",
    "$$ \\displaystyle (x + y)^{n} $$\n",
    "\n",
    "The Binomial Theorem manages to compute the \"expansion\" of the above equation and therefore, calculate a it's  value. As usual, let's provide the Mathematical formula for the Binomial Theorem - \n",
    "\n",
    "$$ \\displaystyle (x + y)^{n} = \\sum_{k=0}^{n} \\binom{n}{k} x^{n-k}y^{k} $$"
   ]
  },
  {
   "cell_type": "code",
   "execution_count": 15,
   "metadata": {},
   "outputs": [],
   "source": [
    "import sympy as sp"
   ]
  },
  {
   "cell_type": "code",
   "execution_count": 16,
   "metadata": {},
   "outputs": [],
   "source": [
    "x, y = sp.symbols('x y')"
   ]
  },
  {
   "cell_type": "code",
   "execution_count": 24,
   "metadata": {},
   "outputs": [
    {
     "data": {
      "text/latex": [
       "$\\displaystyle x^{2} + 2 x y + y^{2}$"
      ],
      "text/plain": [
       "x**2 + 2*x*y + y**2"
      ]
     },
     "execution_count": 24,
     "metadata": {},
     "output_type": "execute_result"
    }
   ],
   "source": [
    "eq = (x + y) ** 2\n",
    "sp.expand(eq)"
   ]
  }
 ],
 "metadata": {
  "kernelspec": {
   "display_name": "Python 3",
   "language": "python",
   "name": "python3"
  },
  "language_info": {
   "codemirror_mode": {
    "name": "ipython",
    "version": 3
   },
   "file_extension": ".py",
   "mimetype": "text/x-python",
   "name": "python",
   "nbconvert_exporter": "python",
   "pygments_lexer": "ipython3",
   "version": "3.7.6"
  }
 },
 "nbformat": 4,
 "nbformat_minor": 4
}
