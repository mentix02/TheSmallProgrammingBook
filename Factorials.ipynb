{
 "cells": [
  {
   "cell_type": "markdown",
   "metadata": {},
   "source": [
    "# Factorial Generation with Bit Splitting & Prime Swings\n",
    "Factorials are defined as the product of an integer and all the natural numbers below it. Mathematically speaking -\n",
    "\n",
    "$$n! = \\displaystyle \\prod_{i=1}^{n} i$$\n",
    "\n",
    "This notebook attempts to implement a couple of ways to implement an optimal factorial algorithm, even utilizing and digging into the Python standard library's `math` module. "
   ]
  },
  {
   "cell_type": "code",
   "execution_count": 1,
   "metadata": {},
   "outputs": [],
   "source": [
    "import math\n",
    "import time\n",
    "import typing"
   ]
  },
  {
   "cell_type": "code",
   "execution_count": 2,
   "metadata": {},
   "outputs": [],
   "source": [
    "try:\n",
    "    import matplotlib.pyplot as plt\n",
    "    from nose.tools import assert_equal\n",
    "except ImportError:\n",
    "    %pip install nose matplotlib\n",
    "    import matplotlib.pyplot as plt\n",
    "    from nose.tools import assert_equal"
   ]
  },
  {
   "cell_type": "markdown",
   "metadata": {},
   "source": [
    "## A Simple Implementation\n",
    "Factorials are easily computable if the number is small. A fairly straightforward & _iterative_ process is described below but we'll soon see, it's not the most optimal solution."
   ]
  },
  {
   "cell_type": "code",
   "execution_count": 3,
   "metadata": {},
   "outputs": [],
   "source": [
    "def naive_factorial(n: int) -> int:\n",
    "    if n <= 0:\n",
    "        return 1\n",
    "    mul = 1\n",
    "    for num in range(1, n+1):\n",
    "        mul *= num\n",
    "    return mul"
   ]
  },
  {
   "cell_type": "markdown",
   "metadata": {},
   "source": [
    "## Visual Analysis\n",
    "Factorials grow enourmously large as numbers increase. For instance, $5! = 120$ but $10! = 3628800$. That's a large disparage for two numbers with a difference of 5. To visualize it, we can plot a graph for the factorial function running from 1 to 6 and another one from 7 to 10. You can cleary see how much of a difference just a small step can make."
   ]
  },
  {
   "cell_type": "code",
   "execution_count": 4,
   "metadata": {},
   "outputs": [
    {
     "data": {
      "image/png": "[encoded data removed]",
      "text/plain": [
       "<Figure size 1080x360 with 2 Axes>"
      ]
     },
     "metadata": {
      "needs_background": "light"
     },
     "output_type": "display_data"
    }
   ],
   "source": [
    "def visualize_growth() -> None:\n",
    "    x_points_till_6 = tuple(range(1, 6))\n",
    "    y_points_till_6 = tuple(map(naive_factorial, x_points_till_6))\n",
    "\n",
    "    x_points_till_11 = tuple(range(7, 11))\n",
    "    y_points_till_11 = tuple(map(naive_factorial, x_points_till_11))\n",
    "\n",
    "    fig, axes = plt.subplots(nrows=1, ncols=2, figsize=(15, 5))\n",
    "\n",
    "    axes[0].plot(x_points_till_6, y_points_till_6)\n",
    "    axes[0].set_xticks(x_points_till_6)\n",
    "\n",
    "    axes[1].plot(x_points_till_11, y_points_till_11)\n",
    "    axes[1].set_xticks(x_points_till_11)\n",
    "\n",
    "visualize_growth()"
   ]
  },
  {
   "cell_type": "code",
   "execution_count": 5,
   "metadata": {},
   "outputs": [],
   "source": [
    "# Test cases\n",
    "\n",
    "# Small numbers.\n",
    "assert_equal(naive_factorial(2), 2)\n",
    "assert_equal(naive_factorial(3), 6)\n",
    "\n",
    "# Decently big numbers.\n",
    "assert_equal(naive_factorial(10), 3628800)\n",
    "assert_equal(naive_factorial(12), 479001600)\n",
    "\n",
    "# Big numbers.\n",
    "assert_equal(naive_factorial(30), 265252859812191058636308480000000)\n",
    "assert_equal(naive_factorial(50), 30414093201713378043612608166064768844377641568960512000000000000)"
   ]
  },
  {
   "cell_type": "markdown",
   "metadata": {},
   "source": [
    "## A Recursive Implementation\n",
    "Clearly, our implementation is quite simple and works sufficiently well for quite large numbers (mostly due to Python's arbitrary precise integers) but just to know how good we have something, we need to have something bad to compare it to. So let's write a bad factorial function using recursion.\n",
    "The reason why we can already predict it's going to be slow is due to the fact that every function call needs to have it's own call stack. And so the bigger the number gets, more function stacks will be created. So not the best approach."
   ]
  },
  {
   "cell_type": "code",
   "execution_count": 6,
   "metadata": {},
   "outputs": [],
   "source": [
    "def recursive_factorial(n: int) -> int:\n",
    "    if n < 2:\n",
    "        return 1\n",
    "    else:\n",
    "        return n * recursive_factorial(n-1)"
   ]
  },
  {
   "cell_type": "code",
   "execution_count": 7,
   "metadata": {},
   "outputs": [],
   "source": [
    "# Test cases for recursive factorial.\n",
    "\n",
    "# Small numbers.\n",
    "assert_equal(recursive_factorial(2), 2)\n",
    "assert_equal(recursive_factorial(3), 6)\n",
    "\n",
    "# Decently big numbers.\n",
    "assert_equal(recursive_factorial(10), 3628800)\n",
    "assert_equal(recursive_factorial(12), 479001600)\n",
    "\n",
    "# Big numbers.\n",
    "assert_equal(recursive_factorial(30), 265252859812191058636308480000000)\n",
    "assert_equal(recursive_factorial(50), 30414093201713378043612608166064768844377641568960512000000000000)"
   ]
  },
  {
   "cell_type": "markdown",
   "metadata": {},
   "source": [
    "## Time Comparisions\n",
    "Since Python comes with an inbuilt `factorial` function with the `math` module, we can use it to see how fast our own, custom implementation is as compared to a native C method.\n",
    "We'll start off by defining a `timeit` function that will take a function `f` that takes no arguments and run it over a fixed number of iterations to see how much time it takes. Read the docstring for more info."
   ]
  },
  {
   "cell_type": "code",
   "execution_count": 8,
   "metadata": {},
   "outputs": [],
   "source": [
    "def timeit(f: typing.Callable, iterations: int = 200, args: typing.Tuple = None) -> typing.Dict[str, typing.Any]:\n",
    "    \"\"\"\n",
    "    A generic function to measure the running time of a function\n",
    "    over a fixed number of iterations. Returns a dictionary\n",
    "    containing formatted string that includes total time taken,\n",
    "    average iteration time, and name of function to run (and all\n",
    "    other relevant data, such as the arguments of the function).\n",
    "    \"\"\"\n",
    "\n",
    "    # Start time.\n",
    "    t1 = time.time()\n",
    "\n",
    "    if args is not None:\n",
    "        for _ in range(iterations):\n",
    "            f(*args)\n",
    "    else:\n",
    "        for _ in range(iterations):\n",
    "            f()\n",
    "\n",
    "    # End time.\n",
    "    t2 = time.time()\n",
    "\n",
    "    # Compute necessary numbers.\n",
    "    time_taken = t2 - t1\n",
    "    avg_time = time_taken / iterations\n",
    "\n",
    "    # Round values upto 3 decimal places.\n",
    "    round_time_taken = round(time_taken, 3)\n",
    "    round_avg_time = round(avg_time, 3)\n",
    "\n",
    "    stats = f'Took {round_time_taken} seconds with {round_avg_time} on average'\n",
    "    if not args:\n",
    "        result = f'{stats}'\n",
    "    else:\n",
    "        result = f'{stats} to run \"{args[0].__name__}()\".'\n",
    "\n",
    "    del stats\n",
    "    data = dict(locals())\n",
    "\n",
    "    del data['f']\n",
    "    del data['_']\n",
    "    del data['t1']\n",
    "    del data['t2']\n",
    "\n",
    "    return data\n",
    "\n",
    "def run_func(f: typing.Callable, iterations: int = 2000):\n",
    "    for i in range(1, iterations):\n",
    "        f(i)"
   ]
  },
  {
   "cell_type": "markdown",
   "metadata": {},
   "source": [
    "## Sample Runs to Test Efficiency\n",
    "We utilize the `run_func` method to test our custom written functions to run over a certain number of iterations."
   ]
  },
  {
   "cell_type": "code",
   "execution_count": 9,
   "metadata": {},
   "outputs": [],
   "source": [
    "def factorial_time_data() -> typing.Dict[str, typing.Any]:\n",
    "\n",
    "    data_naive_factorial     = timeit(run_func, 20, args=(naive_factorial,))\n",
    "    data_math_factorial      = timeit(run_func, 20, args=(math.factorial,),)\n",
    "    data_recursive_factorial = timeit(run_func, 20, args=(recursive_factorial,))\n",
    "\n",
    "    for data in locals().values():\n",
    "        print(data['result'])\n",
    "\n",
    "    # Make copy of locals to remove\n",
    "    # the last for loop \"data\" item.\n",
    "    data = dict(locals())\n",
    "    del data['data']\n",
    "\n",
    "    return data"
   ]
  },
  {
   "cell_type": "code",
   "execution_count": 10,
   "metadata": {},
   "outputs": [
    {
     "name": "stdout",
     "output_type": "stream",
     "text": [
      "Took 11.301 seconds with 0.565 on average to run \"naive_factorial()\".\n",
      "Took 1.609 seconds with 0.08 on average to run \"factorial()\".\n",
      "Took 18.698 seconds with 0.935 on average to run \"recursive_factorial()\".\n"
     ]
    }
   ],
   "source": [
    "time_data = factorial_time_data()"
   ]
  },
  {
   "cell_type": "code",
   "execution_count": 11,
   "metadata": {
    "scrolled": true
   },
   "outputs": [
    {
     "data": {
      "image/png": "[encoded data removed]",
      "text/plain": [
       "<Figure size 936x360 with 2 Axes>"
      ]
     },
     "metadata": {
      "needs_background": "light"
     },
     "output_type": "display_data"
    }
   ],
   "source": [
    "def truncate_data_from_key_func_name(name):\n",
    "    \"\"\"\n",
    "    Helper method to remove the 'data_' prefix\n",
    "    from the keys of time_data function names.\n",
    "    \"\"\"\n",
    "    return name[name.find('_')+1:]\n",
    "\n",
    "def visual_avg_comparision(time_data: typing.Dict[str, typing.Any]) -> None:\n",
    "\n",
    "    avg_points = sorted(list(map(lambda item: item['avg_time'], time_data.values())))\n",
    "    func_names = sorted(list(map(truncate_data_from_key_func_name, time_data.keys())), \n",
    "                        key=lambda item: time_data[f'data_{item}']['time_taken'])\n",
    "    max_points = sorted(list(map(lambda item: item['time_taken'], time_data.values())))\n",
    "\n",
    "    fig, axes = plt.subplots(nrows=1, ncols=2, figsize=(13, 5))\n",
    "    axes[0].bar(func_names, max_points)\n",
    "    axes[0].set_ylabel('time (s)')\n",
    "\n",
    "    axes[1].bar(func_names, avg_points, color='orange')\n",
    "    axes[1].set_ylabel('time (s)')\n",
    "\n",
    "visual_avg_comparision(time_data)"
   ]
  },
  {
   "cell_type": "markdown",
   "metadata": {},
   "source": [
    "## The `math.factorial` Implementation\n",
    "\n",
    "Clearly, the `math.factorial` version outperforms the other two functions. Now you might argue that because it's been implemented natively in C, one of the best performing languages out there, it will definitely be better than Python, quite a slow language in general. But this function has also been implemented differently using a different algorithm. So let's learn about it.\n",
    "\n",
    "Time to clone the CPython reposiotry.\n",
    "\n",
    "To see why the `math.factorial` function performs so well, we need to dig into the source code. This notebook was powered by a Jupyter Kernel running CPython 3.7.6. So let's look at the native factorial function in C that can be found in `./Modules/mathmodule.c` - \n",
    "\n",
    "```c\n",
    "static PyObject *\n",
    "math_factorial(PyObject *module, PyObject *arg)\n",
    "{\n",
    "    PyObject *result, *odd_part, *two_valuation;\n",
    "    long x = PyLong_AsLongAndOverflow(arg, &overflow);\n",
    "\n",
    "    ...\n",
    "    \n",
    "    /* use lookup table if x is small */\n",
    "    if (x < (long)Py_ARRAY_LENGTH(SmallFactorials))\n",
    "        return PyLong_FromUnsignedLong(SmallFactorials[x]);\n",
    "\n",
    "    /* else express in the form odd_part * 2**two_valuation, and compute as\n",
    "       odd_part << two_valuation. */\n",
    "    odd_part = factorial_odd_part(x);\n",
    "    if (odd_part == NULL)\n",
    "        return NULL;\n",
    "    two_valuation = PyLong_FromLong(x - count_set_bits(x));\n",
    "    if (two_valuation == NULL) {\n",
    "        Py_DECREF(odd_part);\n",
    "        return NULL;\n",
    "    }\n",
    "    result = PyNumber_Lshift(odd_part, two_valuation);\n",
    "    Py_DECREF(two_valuation);\n",
    "    Py_DECREF(odd_part);\n",
    "    return result;\n",
    "}\n",
    "```\n",
    "\n",
    "This is a fairly basic implementation of a divide and conquer algorithm for a factorial function. It is, as we'll see soon, aptly titled \"Binary Split Factorial Formula\". It can be traced back to [this webpage](http://www.luschny.de/math/factorial/binarysplitfact.html). The mathematical formula is given below - \n",
    "\n",
    "$$ \\displaystyle n! = 2^{n-\\sigma_{2}(n)} \\prod_{k \\geqslant 1} {\\left(\\prod_{n2^{-k}\\ <\\  j\\ \\leqslant\\ n2^{-k+1}} j^{\\text{[j odd]}} \\right)}^{k} $$\n",
    "<br />\n",
    "$$\\sigma_{2}(n) = \\text{number of 1's in binary expansion of n} \\\\\n",
    "j^{[j\\ odd]} = j \\text{ if } j \\text{ is odd; otherwise } 1$$\n",
    "\n",
    "Now, this might look a little complicated but the underlying theory really is not. Let's break it down a little. \n",
    "\n",
    "The $\\sigma_{2}(n)$ function is just a method that counts the number of times 1 appears in the base 2 form (binary expansion) of a number $n$. For example, the number $6$ will be written in binary as $110$. We can easily count that the digit $1$ appears $2$ times, therefore, $\\sigma_{2}(6) = 2$.\n",
    "\n",
    "Since our goal is to understand this fast factorial method, we shall try to write our own version of this method. But since this function depends on other functions, we will write them separately. Let's start with the $\\sigma_{2}(n)$ function. It's a very Python specific implementation but on some tests conducted, it was the fastest one as compared to others."
   ]
  },
  {
   "cell_type": "code",
   "execution_count": 12,
   "metadata": {},
   "outputs": [],
   "source": [
    "def count_set_bits(n: int) -> int:\n",
    "    \"\"\"\n",
    "    Converts n to it's binary representation\n",
    "    with bin() and returns the count of 1 in\n",
    "    the string after the prefix of '0b' by bin().\n",
    "    \"\"\"\n",
    "    return bin(n)[2:].count('1')"
   ]
  },
  {
   "cell_type": "markdown",
   "metadata": {},
   "source": [
    "That's it for the $\\sigma_{2}$ function, perhaps the easiest bit (no pun intended) for the algorithm. Now comes the second part, the _odd part_ of the function. This is the inner part of the $\\prod$ of the algorithm. It works by multiplying all the odd numbers between two numbers. It is assumed that the two arguments will be valid, i.e., they will both be odd numbers. Below is a simple, iterative implementation - "
   ]
  },
  {
   "cell_type": "code",
   "execution_count": null,
   "metadata": {},
   "outputs": [],
   "source": [
    "def odd_number_product(i: int, j: int) -> int:\n",
    "    total = 1\n",
    "    for num in range(i, j, 2):\n",
    "        total *= num\n",
    "    return total"
   ]
  },
  {
   "cell_type": "markdown",
   "metadata": {},
   "source": [
    "Now comes the outer $\\prod$ part of the algorithm - it returns the product of the odd_number_product starting from $1$ to $n$, halving it with each iteration. For example, to compute this _odd part_ of $20!$, we need to compute the following - \n",
    "\n",
    "$$\\displaystyle oddPart = (3) \\times (3 \\cdot 5 \\cdot 7) \\times (3 \\cdot 5 \\cdot 7 \\cdot 9 \\cdot ) \\times (3 \\cdot 5 \\cdot 7 \\cdot 9 \\cdot 11 \\cdot 13 \\cdot 15 \\cdot 17 \\cdot 19) $$"
   ]
  },
  {
   "cell_type": "code",
   "execution_count": null,
   "metadata": {},
   "outputs": [],
   "source": []
  }
 ],
 "metadata": {
  "kernelspec": {
   "display_name": "Python 3",
   "language": "python",
   "name": "python3"
  },
  "language_info": {
   "codemirror_mode": {
    "name": "ipython",
    "version": 3
   },
   "file_extension": ".py",
   "mimetype": "text/x-python",
   "name": "python",
   "nbconvert_exporter": "python",
   "pygments_lexer": "ipython3",
   "version": "3.7.6"
  }
 },
 "nbformat": 4,
 "nbformat_minor": 4
}
