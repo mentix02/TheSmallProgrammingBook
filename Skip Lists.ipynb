{
 "cells": [
  {
   "cell_type": "markdown",
   "metadata": {},
   "source": [
    "# A Overview and Implementation of Skip Lists\n",
    "A skip list is an important data structure that can be used as an efficient way to store data and retrieve it. It has the following characteristics - \n",
    "\n",
    "| Algorithm | Average Case | Worst Case     |\n",
    "|-----------|--------------|----------------|\n",
    "| Space     | $O(n)$       | $O(n \\log{n})$ |\n",
    "| Search    | $O(\\log{n})$ | $O(n)$         |\n",
    "| Insert    | $O(\\log{n})$ | $O(n)$         |\n",
    "| Delete    | $O(\\log{n})$ | $O(n)$         |"
   ]
  }
 ],
 "metadata": {
  "kernelspec": {
   "display_name": "Python 3",
   "language": "python",
   "name": "python3"
  },
  "language_info": {
   "codemirror_mode": {
    "name": "ipython",
    "version": 3
   },
   "file_extension": ".py",
   "mimetype": "text/x-python",
   "name": "python",
   "nbconvert_exporter": "python",
   "pygments_lexer": "ipython3",
   "version": "3.7.6"
  }
 },
 "nbformat": 4,
 "nbformat_minor": 4
}
