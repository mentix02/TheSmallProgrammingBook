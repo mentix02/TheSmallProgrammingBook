{
 "cells": [
  {
   "cell_type": "markdown",
   "metadata": {},
   "source": [
    "# A Guide to Bitwise Operations & Shifts\n",
    "We, as little children, were taught to count using the decimal number system. There isn't any definitive reason why we chose that but there are [some speculations](https://math.stackexchange.com/questions/317941/why-do-we-use-decimal-system). Regardless of that, some time in the past century, Computer Scientists, much like our budding selves, decided to use the binary number system for building computers but that wasn't as arbitrary a decision as our adoption of the decimal system.\n",
    "\n",
    "This decision involved a lot of reasons - one of them that the 1s and 0s in the form of high or low voltages are easily distinguishable as opposed to measuring different voltages as different numbers to accomodate more digits (thus having a higher base than 2). Another was that of classifiying different voltages would require more circuitry and time. And while these are very high level (and not complete by any measure) reasons for why the base-2 (binary) system was chosen, we need not overwhelm or concern ourselves with those decisions yet, this chapter focuses more on the types of operations we can do with binary numbers.\n",
    "\n",
    "When we talk about _operations_, we don't mean the rules laid out by BODMAS (or PEDMAS) including the operations defined in them like addition, multiplication, etc. We want to talk about the special **bitwise** operations that we can perform for optimizing our calculations.\n",
    "\n",
    "Here's a little example, say we have to write the following Mathematical function in Python - <br><br>\n",
    "\n",
    "$$ f(a,b) = a \\cdot 2^b $$"
   ]
  },
  {
   "cell_type": "code",
   "execution_count": 1,
   "metadata": {},
   "outputs": [],
   "source": [
    "def naive_f(a: int, b: int) -> int:\n",
    "    return a * (2 ** b)"
   ]
  },
  {
   "cell_type": "markdown",
   "metadata": {},
   "source": [
    "As the name implies, this is a **naive** implementation of the $f(a,b)$ function. But don't take my word for it. Let's collect some time data, so let us define a timeit function of our own."
   ]
  },
  {
   "cell_type": "code",
   "execution_count": 2,
   "metadata": {},
   "outputs": [],
   "source": [
    "import time\n",
    "import typing\n",
    "\n",
    "\n",
    "def timeit(f: typing.Callable, iterations: int = 200, args: typing.Tuple[typing.Any] = None) -> float:\n",
    "    # Initialize start time.\n",
    "    t1 = time.time()\n",
    "\n",
    "    if args is not None:\n",
    "        for _ in range(iterations):\n",
    "            f(*args)\n",
    "    else:\n",
    "        for _ in range(iterations):\n",
    "            f()\n",
    "    \n",
    "    # End time.\n",
    "    t2 = time.time()\n",
    "\n",
    "    return t2 - t1"
   ]
  },
  {
   "cell_type": "code",
   "execution_count": 3,
   "metadata": {},
   "outputs": [],
   "source": [
    "# Tests for validity.\n",
    "args_expected_vals: typing.Dict[typing.Tuple[int, int], int] = {\n",
    "    (3, 8): 768,\n",
    "    (7, 9): 3584,\n",
    "    (2, 15): 65536,\n",
    "    (2, 50): 2251799813685248,\n",
    "    (30, 50): 33776997205278720,\n",
    "    (7, 60): 8070450532247928832,\n",
    "}\n",
    "\n",
    "def valid(f: typing.Callable):\n",
    "    for args, value in args_expected_vals.items():\n",
    "        assert naive_f(*args) == value\n",
    "\n",
    "valid(naive_f)"
   ]
  },
  {
   "cell_type": "markdown",
   "metadata": {},
   "source": [
    "If we set $a = 7$ and $b = 60$, the function $f(a,b)$ should return $8070450532247928832$ which is quite a big number. So let's see how much time it takes to compute this 5 million times to see how efficiently we can do it."
   ]
  },
  {
   "cell_type": "code",
   "execution_count": 4,
   "metadata": {
    "scrolled": true
   },
   "outputs": [
    {
     "name": "stdout",
     "output_type": "stream",
     "text": [
      "Took 2.3578131198883057 seconds to compute naive_f(7, 60) 5 million times.\n"
     ]
    }
   ],
   "source": [
    "t = timeit(naive_f, 5 * 10**6, (7, 60))\n",
    "print(f'Took {t} seconds to compute naive_f(7, 60) 5 million times.')"
   ]
  },
  {
   "cell_type": "markdown",
   "metadata": {},
   "source": [
    "So, a little over 2 seconds. That's not too bad. But can we try to make it a little better? Let's try."
   ]
  },
  {
   "cell_type": "code",
   "execution_count": 5,
   "metadata": {},
   "outputs": [],
   "source": [
    "def fast_f(a: int, b: int) -> int:\n",
    "    return a << b"
   ]
  },
  {
   "cell_type": "markdown",
   "metadata": {},
   "source": [
    "If you didn't look closely enough, you might think that I'm comparing $a$ and $b$, or, more specifically, I'm checking if $a$ is less than $b$. But I'm actually performing a bitwise operation known as \"left bitiwse\". Or, I can say, I'm shifting $a$, $b$ bits to the left. That sounds weird but if we run our validity `valid` function on this, we can see it works just like our `naive_f` function!"
   ]
  },
  {
   "cell_type": "code",
   "execution_count": 6,
   "metadata": {},
   "outputs": [],
   "source": [
    "valid(fast_f)"
   ]
  },
  {
   "cell_type": "markdown",
   "metadata": {},
   "source": [
    "No assertion errors! But what about its efficiency? How does it actually compare with regards to speed to `naive_f`? Let's see."
   ]
  },
  {
   "cell_type": "code",
   "execution_count": 7,
   "metadata": {
    "scrolled": true
   },
   "outputs": [
    {
     "name": "stdout",
     "output_type": "stream",
     "text": [
      "Took 0.5532627105712891 seconds to compute fast_f(7, 60) 5 million times.\n"
     ]
    }
   ],
   "source": [
    "t = timeit(fast_f, 5 * 10**6, (7, 60))\n",
    "print(f'Took {t} seconds to compute fast_f(7, 60) 5 million times.')"
   ]
  },
  {
   "cell_type": "markdown",
   "metadata": {},
   "source": [
    "Just a little over half a second. That's pretty fast compared to our original implementation. But how? That's the question we aim to find in this chapter. We shall look at bitwise operations that can help us write faster code while also emphasizing real life use cases other than simple mathematical functions."
   ]
  },
  {
   "cell_type": "markdown",
   "metadata": {},
   "source": [
    "## What Are \"Bitwise Operations\"?\n",
    "When I was learning about bitwise operations, I had no clue about what they were until a resource started with the comment \"as the name suggests, bitwise operations are operations over individual bits\". I don't remember if that was word to word but it really helped me to understand it. Even [Wikipedia](https://en.wikipedia.org/wiki/Bitwise_operation) describes it this way - \n",
    "\n",
    "> In digital computer programming, a bitwise operation operates on one or more bit patterns or binary numerals at the level of their individual bits.\n",
    "\n",
    "There's a few different types of bitwise operations and we're here to talk about all of them. So let's list them all down and talk about each of them.\n",
    "\n",
    "## Index\n",
    "0. [Helper Functions](#Helper-Functions)\n",
    "    1. [Binary Digits](#Binary-Digits)\n",
    "    2. [Decimal Digits](#Decimal-Digits)\n",
    "1. [Bitwise Operators](#Bitwise-Operators)\n",
    "    1. [NOT Operator (~)](#NOT)\n",
    "    2. [AND Operator (&)](#AND)\n",
    "        1. [Brian Kernighan's Algorithm](#Brian-Kernighan's-Algorithm)\n",
    "    3. [OR  Operator (|)](#OR)\n",
    "    4. [XOR Operator (^)](#XOR)\n",
    "2. [Bitwise Shifts](#Bitwise-Shifts)\n",
    "    1. [Shifts](#Shifts)\n",
    "        1. [Left Shift (<<)](#Left-Shift)\n",
    "        2. [Right Shift (>>)](#Right-Shift)\n",
    "    2. [Logical Shifts](#Logical-Shifts)\n",
    "    3. [Arithmetic vs Logical Shifts](#Arithmetic-vs-Logical-Shifts)\n",
    "3. [Miscellaneous](#Miscellaneous)\n",
    "    1. [Closing Thoughts](#Closing-Thoughts)\n",
    "    2. [Truth Table for Binary Operators](#Truth-Table)"
   ]
  },
  {
   "cell_type": "markdown",
   "metadata": {},
   "source": [
    "## Helper Functions\n",
    "To help us converting between 2's compliment binary representation of decimal digits back and forth, we need to have some helper function. We need not go into their implementation yet.\n",
    "### Binary Digits\n",
    "This method converts a given integer into a binary, 2's compliment string representation."
   ]
  },
  {
   "cell_type": "code",
   "execution_count": 8,
   "metadata": {},
   "outputs": [],
   "source": [
    "def bin_digits(n: int, bits: int = 8) -> str:\n",
    "    s = bin(n & int(\"1\"*bits, 2))[2:]\n",
    "    return (\"{0:0>%s}\" % bits).format(s)"
   ]
  },
  {
   "cell_type": "markdown",
   "metadata": {},
   "source": [
    "### Decimal Digits\n",
    "This method is the inverse of the `bin_digits` function and is used to convert a binary string into an integer."
   ]
  },
  {
   "cell_type": "code",
   "execution_count": 9,
   "metadata": {},
   "outputs": [],
   "source": [
    "def dec_digits(n: str, bits: int = 8) -> int:\n",
    "    while len(n) < bits:\n",
    "        n = '0' + n\n",
    "    if n.startswith('0'):\n",
    "        return int(n, 2)\n",
    "    else:\n",
    "        return -1 * (int(''.join('1' if x == '0' else '0' for x in n), 2) + 1)"
   ]
  },
  {
   "cell_type": "markdown",
   "metadata": {},
   "source": [
    "## Bitwise Operators\n",
    "As described above bitwise operators are those operators that mutate or perform some action on the individual bits of a number represented in binary form. Broadly speaking, we can divide the above listed operations into two types - unary and binary although, theoretically speaking, we can have any _**n**-ary_ (formally known as \"[arity](https://en.wikipedia.org/wiki/Arity)\"). A C++ chapter on this topic is in development.\n",
    "\n",
    "Here we'll talk about these binary operations and their mathematical formulae."
   ]
  },
  {
   "cell_type": "markdown",
   "metadata": {},
   "source": [
    "## NOT\n",
    "$$ \\newcommand{\\Mod}[1]{\\ \\mathrm{mod}\\ #1} \\text{NOT }x = \\sum_{n=0}^{\\lfloor \\log_{2}x \\rfloor} 2^{n} \\left[ \\left( \\left\\lfloor \\frac{x}{2^n} \\right\\rfloor \\Mod{2} + 1 \\right) \\Mod{2} \\right] = 2^{\\lfloor \\log_{2}x \\rfloor + 1} - 1 -x $$\n",
    "The operator is the only unary binary operator. It's sometimes also called the \"negation operator\". There's a lot of different notations for it but we, as Computer Scientists, will be using the _tilde_ notation, expressed as $ \\text{~}x $. The NOT opeator, when applied over a proposition, simply negates it. It can be easily expressed in the form of a truth table - \n",
    "\n",
    "| $x$ | $\\text{~}x$ |\n",
    "|-----|-------------|\n",
    "| $1$ |     $0$     |\n",
    "| $0$ |     $1$     |\n",
    "\n",
    "But what about NOT in terms of an bitwise operator? A bitiwise NOT performs the _inversion_ of bits over each bit in a number's two's compliment expansion. For example, take the number $54$. It can be represented as 00110110 in two's compliment binary notation. Performing NOT over each one of those digits would result in 11001001, which when converted back into decimal notation, is $-55$. Let's see it in action."
   ]
  },
  {
   "cell_type": "code",
   "execution_count": 10,
   "metadata": {},
   "outputs": [
    {
     "name": "stdout",
     "output_type": "stream",
     "text": [
      "00110110\n",
      "11001001\n",
      "Converting 00110110 to decimal: 54\n",
      "Converting 11001001 to decimal: -55\n"
     ]
    }
   ],
   "source": [
    "x = 54\n",
    "bin_x = bin_digits(x)\n",
    "bin_NOT_x = bin_digits(~x)\n",
    "print(bin_x)\n",
    "print(bin_NOT_x)\n",
    "print(f'Converting {bin_x} to decimal:', dec_digits(bin_x))\n",
    "print(f'Converting {bin_NOT_x} to decimal:', dec_digits(bin_NOT_x))"
   ]
  },
  {
   "cell_type": "markdown",
   "metadata": {},
   "source": [
    "The NOT operator is the easiest to understand but the downside is that it's not a highly useful operator for any high level, practical reason. But still, pretty cool. The base-10 equivalent expression for the NOT operator is simply - <br><br>\n",
    "\n",
    "$$ \\text{NOT }x = -x - 1 = -(x + 1) $$"
   ]
  },
  {
   "cell_type": "markdown",
   "metadata": {},
   "source": [
    "## AND\n",
    "$$ x \\text{ AND } y = \\sum_{n=0}^{\\lfloor \\log_{2}x \\rfloor} 2^{n} \\left( \\left\\lfloor \\frac{x}{2^n} \\right\\rfloor \\Mod{2} \\right) \\left( \\left\\lfloor \\frac{y}{2^n} \\right\\rfloor \\Mod{2} \\right) $$\n",
    "\n",
    "The bitwise AND operator is a proper binary operator that requires two parameters. As the name implies, it performs the AND operation over each of the digits of the two numbers provided. The AND operation requires both the values it's being performed upon to be true (or 1 in our binary workings). It's truth table can be expressed as below - \n",
    "\n",
    "| $x$ | $y$ | $x \\vee y$ |\n",
    "|-----|-----|------------|\n",
    "| $0$ | $0$ |     $0$    |\n",
    "| $0$ | $1$ |     $0$    |\n",
    "| $1$ | $0$ |     $0$    |\n",
    "| $1$ | $1$ |     $1$    |\n",
    "\n",
    "Once again, let us take an example. Take $x = 35$ and $y = 53$. An $\\And$ operation over them would yield 33."
   ]
  },
  {
   "cell_type": "code",
   "execution_count": 11,
   "metadata": {},
   "outputs": [
    {
     "name": "stdout",
     "output_type": "stream",
     "text": [
      "  00100011\n",
      "& 00110101\n",
      "  --------\n",
      "= 00100001\n",
      "\n",
      "35 & 53 = 33\n"
     ]
    }
   ],
   "source": [
    "x = 35\n",
    "y = 53\n",
    "print(' ', bin_digits(x))\n",
    "print('&', bin_digits(y))\n",
    "print(' ', '-' * 8)\n",
    "print('=', bin_digits(x & y))\n",
    "print(f'\\n{x} & {y} = {x & y}')"
   ]
  },
  {
   "cell_type": "code",
   "execution_count": 12,
   "metadata": {},
   "outputs": [
    {
     "name": "stdout",
     "output_type": "stream",
     "text": [
      "0 & 0 = 0\n",
      "0 & 0 = 0\n",
      "1 & 1 = 1\n",
      "0 & 1 = 0\n",
      "0 & 0 = 0\n",
      "0 & 1 = 0\n",
      "1 & 0 = 0\n",
      "1 & 1 = 1\n"
     ]
    }
   ],
   "source": [
    "for x_digit, y_digit in zip(bin_digits(x), bin_digits(y)):\n",
    "    print(x_digit, '&', y_digit, '=', int(x_digit) & int(y_digit))"
   ]
  },
  {
   "cell_type": "markdown",
   "metadata": {},
   "source": [
    "Bitwise AND is useful in something called \"bit-masking\". Bit masking is the process of applying a _mask_ to a number. A **mask** is specially constructed number to mutate the number in a specific way. For instance, say we want to make sure that the first three bits of a number are turned off (for reasons that are out of the scope of this chapter), we can construct a mask so that the first three digits are $0$s (we'll be working with 32 bit numbers)."
   ]
  },
  {
   "cell_type": "code",
   "execution_count": 13,
   "metadata": {},
   "outputs": [],
   "source": [
    "mask = 0b11111000"
   ]
  },
  {
   "cell_type": "markdown",
   "metadata": {},
   "source": [
    "Now we can apply this mask to any number we want using an $\\And$ operator, regardless of what it has in its last three digits of its binary representation, the mask will convert them to $0$s. For example - "
   ]
  },
  {
   "cell_type": "code",
   "execution_count": 14,
   "metadata": {},
   "outputs": [
    {
     "name": "stdout",
     "output_type": "stream",
     "text": [
      "Valid.\n"
     ]
    }
   ],
   "source": [
    "for num in range(100):\n",
    "    if not bin_digits(num & mask).endswith('000'):\n",
    "        raise Exception('You broke logic!')\n",
    "else:\n",
    "    print('Valid.')"
   ]
  },
  {
   "cell_type": "markdown",
   "metadata": {},
   "source": [
    "Another use for the AND operator is to check for set bits. In the Factorial chapter, we have a function ($\\sigma$) that checks for the number of set bits in a given natural number. We used a different approach in the chapter but now, empowered with the knowledge of the AND operator, we can write our own version."
   ]
  },
  {
   "cell_type": "markdown",
   "metadata": {},
   "source": [
    "## Brian Kernighan's Algorithm\n",
    "I kind of lied in the last cell, because we won't really be writing our **original** set bit counting algorithm but will instead be looking over an efficient and popular one by a well known computer scientist named Brian Kernighan. This algorithms helps us count the number of 1s in the binary of a given number while iterating only the number of times it occurs. So for any number $n$, the runtime of this algorithm will be $O(\\log{n})$.\n",
    "\n",
    "|   Worst Case   |   Space  |\n",
    "|----------------|----------|\n",
    "| $O(\\log{n})$   |  $O(1)$  |"
   ]
  },
  {
   "cell_type": "markdown",
   "metadata": {},
   "source": [
    "The algorithms exploits the fact that any decimal number has all its bits flipped after its most significant bit. For example - "
   ]
  },
  {
   "cell_type": "code",
   "execution_count": 15,
   "metadata": {},
   "outputs": [
    {
     "name": "stdout",
     "output_type": "stream",
     "text": [
      "9 00001001\n",
      "8 00001000\n",
      "7 00000111\n",
      "6 00000110\n",
      "5 00000101\n"
     ]
    }
   ],
   "source": [
    "for num in reversed(range(5, 10)):\n",
    "    print(num, bin_digits(num))"
   ]
  },
  {
   "cell_type": "markdown",
   "metadata": {},
   "source": [
    "So if we take a number and perform a bitwise AND with its decrement, in Maths terms - \n",
    "\n",
    "$$ n = n \\text{ } \\And \\text{ } (n-1) $$\n",
    "\n",
    "we get $n$ as the nunber with the rightmost set bit removed. And if we keep a counter that is incremented in a loop with each, we perform the above operation, we get the number of $1$s removed, and thus the total number of set bits of a number."
   ]
  },
  {
   "cell_type": "code",
   "execution_count": 16,
   "metadata": {},
   "outputs": [],
   "source": [
    "def count_set_bits(n: int) -> int:\n",
    "    total = 0\n",
    "    while n > 0:\n",
    "        print(bin_digits(n), '&', bin_digits(n-1))\n",
    "        n &= n - 1\n",
    "        total += 1\n",
    "    return total"
   ]
  },
  {
   "cell_type": "code",
   "execution_count": 17,
   "metadata": {},
   "outputs": [
    {
     "name": "stdout",
     "output_type": "stream",
     "text": [
      "00011111 & 00011110\n",
      "00011110 & 00011101\n",
      "00011100 & 00011011\n",
      "00011000 & 00010111\n",
      "00010000 & 00001111\n"
     ]
    },
    {
     "data": {
      "text/plain": [
       "5"
      ]
     },
     "execution_count": 17,
     "metadata": {},
     "output_type": "execute_result"
    }
   ],
   "source": [
    "count_set_bits(31)"
   ]
  },
  {
   "cell_type": "markdown",
   "metadata": {},
   "source": [
    "## OR\n",
    "$$ x \\text{ OR } y = \\sum_{n=0}^{\\lfloor \\log_2{x} \\rfloor} 2^{n} \\left( \\left[ \\left( \\left\\lfloor \\frac{x}{2^n} \\right\\rfloor \\Mod 2 \\right) + \\left( \\left\\lfloor \\frac{y}{2^n} \\right\\rfloor \\Mod 2 \\right) + \\left( \\left\\lfloor \\frac{x}{2^n} \\right\\rfloor \\Mod 2 \\right)\\left( \\left\\lfloor \\frac{y}{2^n} \\right\\rfloor \\Mod 2 \\right) \\right] \\Mod 2 \\right) $$\n",
    "\n",
    "The OR operator is, similar to the AND operator, a binary operator. It requires two values, $x$ and $y$. The OR logical operator checks whether **at least one** of the values provided is True. If it is, then the entire expression evaluates to True. Thus the truth table for the OR logical operator can be defined as follows -\n",
    "\n",
    "| $x$ | $y$ | $x \\wedge y$ |\n",
    "|-----|-----|------------|\n",
    "| $0$ | $0$ |     $0$    |\n",
    "| $0$ | $1$ |     $1$    |\n",
    "| $1$ | $0$ |     $1$    |\n",
    "| $1$ | $1$ |     $1$    |"
   ]
  }
 ],
 "metadata": {
  "kernelspec": {
   "display_name": "Python 3",
   "language": "python",
   "name": "python3"
  },
  "language_info": {
   "codemirror_mode": {
    "name": "ipython",
    "version": 3
   },
   "file_extension": ".py",
   "mimetype": "text/x-python",
   "name": "python",
   "nbconvert_exporter": "python",
   "pygments_lexer": "ipython3",
   "version": "3.7.6"
  }
 },
 "nbformat": 4,
 "nbformat_minor": 4
}
